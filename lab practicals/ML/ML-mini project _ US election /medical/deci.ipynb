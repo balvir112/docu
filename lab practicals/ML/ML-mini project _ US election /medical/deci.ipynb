{
 "cells": [
  {
   "cell_type": "code",
   "execution_count": 1,
   "metadata": {},
   "outputs": [
    {
     "name": "stdout",
     "output_type": "stream",
     "text": [
      "Decision Tree Rules:\n",
      " |--- petal length (cm) <= 2.45\n",
      "|   |--- class: 0\n",
      "|--- petal length (cm) >  2.45\n",
      "|   |--- petal length (cm) <= 4.75\n",
      "|   |   |--- petal width (cm) <= 1.65\n",
      "|   |   |   |--- class: 1\n",
      "|   |   |--- petal width (cm) >  1.65\n",
      "|   |   |   |--- class: 2\n",
      "|   |--- petal length (cm) >  4.75\n",
      "|   |   |--- petal width (cm) <= 1.75\n",
      "|   |   |   |--- petal length (cm) <= 4.95\n",
      "|   |   |   |   |--- class: 1\n",
      "|   |   |   |--- petal length (cm) >  4.95\n",
      "|   |   |   |   |--- petal width (cm) <= 1.55\n",
      "|   |   |   |   |   |--- class: 2\n",
      "|   |   |   |   |--- petal width (cm) >  1.55\n",
      "|   |   |   |   |   |--- petal length (cm) <= 5.45\n",
      "|   |   |   |   |   |   |--- class: 1\n",
      "|   |   |   |   |   |--- petal length (cm) >  5.45\n",
      "|   |   |   |   |   |   |--- class: 2\n",
      "|   |   |--- petal width (cm) >  1.75\n",
      "|   |   |   |--- petal length (cm) <= 4.85\n",
      "|   |   |   |   |--- sepal width (cm) <= 3.10\n",
      "|   |   |   |   |   |--- class: 2\n",
      "|   |   |   |   |--- sepal width (cm) >  3.10\n",
      "|   |   |   |   |   |--- class: 1\n",
      "|   |   |   |--- petal length (cm) >  4.85\n",
      "|   |   |   |   |--- class: 2\n",
      "\n",
      "Accuracy: 1.00\n"
     ]
    }
   ],
   "source": [
    "# Import necessary libraries\n",
    "from sklearn.datasets import load_iris\n",
    "from sklearn.model_selection import train_test_split\n",
    "from sklearn.tree import DecisionTreeClassifier, export_text\n",
    "\n",
    "# Load the Iris dataset\n",
    "iris = load_iris()\n",
    "X = iris.data\n",
    "y = iris.target\n",
    "\n",
    "# Split the dataset into training and testing sets\n",
    "X_train, X_test, y_train, y_test = train_test_split(X, y, test_size=0.2, random_state=42)\n",
    "\n",
    "# Create a decision tree classifier\n",
    "dt_classifier = DecisionTreeClassifier(random_state=42)\n",
    "\n",
    "# Fit the decision tree on the training data\n",
    "dt_classifier.fit(X_train, y_train)\n",
    "\n",
    "# Print a textual representation of the decision tree\n",
    "tree_rules = export_text(dt_classifier, feature_names=iris.feature_names)\n",
    "print(\"Decision Tree Rules:\\n\", tree_rules)\n",
    "\n",
    "# Make predictions on the test set\n",
    "y_pred = dt_classifier.predict(X_test)\n",
    "\n",
    "# Evaluate the accuracy of the model\n",
    "accuracy = (y_pred == y_test).mean()\n",
    "print(f\"Accuracy: {accuracy:.2f}\")\n"
   ]
  }
 ],
 "metadata": {
  "kernelspec": {
   "display_name": "Python 3",
   "language": "python",
   "name": "python3"
  },
  "language_info": {
   "codemirror_mode": {
    "name": "ipython",
    "version": 3
   },
   "file_extension": ".py",
   "mimetype": "text/x-python",
   "name": "python",
   "nbconvert_exporter": "python",
   "pygments_lexer": "ipython3",
   "version": "3.10.12"
  }
 },
 "nbformat": 4,
 "nbformat_minor": 2
}
